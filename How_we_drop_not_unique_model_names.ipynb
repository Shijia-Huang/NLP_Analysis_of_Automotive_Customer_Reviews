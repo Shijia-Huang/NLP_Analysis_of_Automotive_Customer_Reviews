{
 "cells": [
  {
   "cell_type": "code",
   "execution_count": 111,
   "metadata": {},
   "outputs": [],
   "source": [
    "import nltk\n",
    "import pandas as pd\n",
    "import numpy as np\n",
    "import sys\n",
    "\n",
    "data = pd.read_csv('entire_data_Mentioned.csv', header=0).iloc[:59993, 1:].drop_duplicates() ## because the first column are indexes\n",
    "# data_4th = pd.read_csv('entire_data_Mentioned_4th.csv', header=0).iloc[:, 1:].drop_duplicates() ## because the first column are indexes"
   ]
  },
  {
   "cell_type": "code",
   "execution_count": 112,
   "metadata": {},
   "outputs": [
    {
     "data": {
      "text/html": [
       "<div>\n",
       "<style scoped>\n",
       "    .dataframe tbody tr th:only-of-type {\n",
       "        vertical-align: middle;\n",
       "    }\n",
       "\n",
       "    .dataframe tbody tr th {\n",
       "        vertical-align: top;\n",
       "    }\n",
       "\n",
       "    .dataframe thead th {\n",
       "        text-align: right;\n",
       "    }\n",
       "</style>\n",
       "<table border=\"1\" class=\"dataframe\">\n",
       "  <thead>\n",
       "    <tr style=\"text-align: right;\">\n",
       "      <th></th>\n",
       "      <th>detected_entity</th>\n",
       "      <th>brand_id</th>\n",
       "      <th>model_id</th>\n",
       "      <th>year</th>\n",
       "      <th>ybm_id</th>\n",
       "      <th>org_id</th>\n",
       "    </tr>\n",
       "  </thead>\n",
       "  <tbody>\n",
       "    <tr>\n",
       "      <th>0</th>\n",
       "      <td>3</td>\n",
       "      <td>0</td>\n",
       "      <td>3</td>\n",
       "      <td>0</td>\n",
       "      <td>0</td>\n",
       "      <td>3227.0</td>\n",
       "    </tr>\n",
       "    <tr>\n",
       "      <th>1</th>\n",
       "      <td>3</td>\n",
       "      <td>0</td>\n",
       "      <td>3</td>\n",
       "      <td>0</td>\n",
       "      <td>0</td>\n",
       "      <td>5226.0</td>\n",
       "    </tr>\n",
       "    <tr>\n",
       "      <th>2</th>\n",
       "      <td>3</td>\n",
       "      <td>0</td>\n",
       "      <td>3</td>\n",
       "      <td>0</td>\n",
       "      <td>0</td>\n",
       "      <td>5292.0</td>\n",
       "    </tr>\n",
       "    <tr>\n",
       "      <th>3</th>\n",
       "      <td>SERIES</td>\n",
       "      <td>0</td>\n",
       "      <td>3</td>\n",
       "      <td>0</td>\n",
       "      <td>0</td>\n",
       "      <td>5814.0</td>\n",
       "    </tr>\n",
       "    <tr>\n",
       "      <th>4</th>\n",
       "      <td>3</td>\n",
       "      <td>0</td>\n",
       "      <td>3</td>\n",
       "      <td>0</td>\n",
       "      <td>0</td>\n",
       "      <td>6253.0</td>\n",
       "    </tr>\n",
       "    <tr>\n",
       "      <th>...</th>\n",
       "      <td>...</td>\n",
       "      <td>...</td>\n",
       "      <td>...</td>\n",
       "      <td>...</td>\n",
       "      <td>...</td>\n",
       "      <td>...</td>\n",
       "    </tr>\n",
       "    <tr>\n",
       "      <th>59988</th>\n",
       "      <td>SERIES</td>\n",
       "      <td>0</td>\n",
       "      <td>413</td>\n",
       "      <td>0</td>\n",
       "      <td>0</td>\n",
       "      <td>254919.0</td>\n",
       "    </tr>\n",
       "    <tr>\n",
       "      <th>59989</th>\n",
       "      <td>SERIES</td>\n",
       "      <td>0</td>\n",
       "      <td>413</td>\n",
       "      <td>0</td>\n",
       "      <td>0</td>\n",
       "      <td>255415.0</td>\n",
       "    </tr>\n",
       "    <tr>\n",
       "      <th>59990</th>\n",
       "      <td>SERIES</td>\n",
       "      <td>0</td>\n",
       "      <td>413</td>\n",
       "      <td>0</td>\n",
       "      <td>0</td>\n",
       "      <td>255740.0</td>\n",
       "    </tr>\n",
       "    <tr>\n",
       "      <th>59991</th>\n",
       "      <td>SERIES</td>\n",
       "      <td>0</td>\n",
       "      <td>413</td>\n",
       "      <td>0</td>\n",
       "      <td>0</td>\n",
       "      <td>281814.0</td>\n",
       "    </tr>\n",
       "    <tr>\n",
       "      <th>59992</th>\n",
       "      <td>SERIES</td>\n",
       "      <td>0</td>\n",
       "      <td>413</td>\n",
       "      <td>0</td>\n",
       "      <td>0</td>\n",
       "      <td>308800.0</td>\n",
       "    </tr>\n",
       "  </tbody>\n",
       "</table>\n",
       "<p>59993 rows × 6 columns</p>\n",
       "</div>"
      ],
      "text/plain": [
       "      detected_entity  brand_id  model_id  year  ybm_id    org_id\n",
       "0                   3         0         3     0       0    3227.0\n",
       "1                   3         0         3     0       0    5226.0\n",
       "2                   3         0         3     0       0    5292.0\n",
       "3              SERIES         0         3     0       0    5814.0\n",
       "4                   3         0         3     0       0    6253.0\n",
       "...               ...       ...       ...   ...     ...       ...\n",
       "59988          SERIES         0       413     0       0  254919.0\n",
       "59989          SERIES         0       413     0       0  255415.0\n",
       "59990          SERIES         0       413     0       0  255740.0\n",
       "59991          SERIES         0       413     0       0  281814.0\n",
       "59992          SERIES         0       413     0       0  308800.0\n",
       "\n",
       "[59993 rows x 6 columns]"
      ]
     },
     "execution_count": 112,
     "metadata": {},
     "output_type": "execute_result"
    }
   ],
   "source": [
    "data"
   ]
  },
  {
   "cell_type": "code",
   "execution_count": 161,
   "metadata": {},
   "outputs": [],
   "source": [
    "ids = pd.read_csv('car_model_ids.csv', header=0)\n",
    "match_unique_models = ids.drop_duplicates(subset = ['brand','model_fromsales'],keep='last')\n",
    "match_unique_brands = ids.drop_duplicates(subset = ['brand'],keep='last')"
   ]
  },
  {
   "cell_type": "code",
   "execution_count": null,
   "metadata": {},
   "outputs": [],
   "source": [
    "unique_models=[]\n",
    "for x in ids.model_fromsales:\n",
    "    if x not in unique_models:\n",
    "         unique_models.append(x)"
   ]
  },
  {
   "cell_type": "markdown",
   "metadata": {},
   "source": [
    "### every models itself (not including variations, such as half of the model name) is unique"
   ]
  },
  {
   "cell_type": "code",
   "execution_count": 167,
   "metadata": {
    "scrolled": true
   },
   "outputs": [
    {
     "name": "stdout",
     "output_type": "stream",
     "text": [
      "416\n",
      "416\n"
     ]
    }
   ],
   "source": [
    "print(len(unique_models))\n",
    "print(len(match_unique_models))"
   ]
  },
  {
   "cell_type": "code",
   "execution_count": 150,
   "metadata": {
    "collapsed": true
   },
   "outputs": [
    {
     "name": "stdout",
     "output_type": "stream",
     "text": [
      "['CL', 'MDX', 'NSX', 'RL', 'RSX', 'TL', 'A4', 'A6', 'TT', '3 SERIES', '5 SERIES', '7 SERIES', 'X5', 'Z3', 'Z8', 'CENTURY', 'LESABRE', 'REGAL', 'RENDEZVOUS', 'DEVILLE', 'ELDORADO', 'SEVILLE', 'ASTRO PASS', 'CAVALIER', 'CORVETTE', 'EXPRESS CARGO', 'EXPRESS PASS', 'IMPALA', 'MALIBU', 'MONTE CARLO', 'PRIZM', 'S BLAZER', 'S10 PICKUP', 'SILVERADO', 'TAHOE', 'TRACKER', 'TRAILBLAZER', 'VENTURE', '300 M', 'CONCORDE', 'PT CRUISER', 'SEBRING SEDAN', 'TOWN & COUNTRY', 'VOYAGER', 'LANOS', 'LEGANZA', 'NUBIRA', 'CARAVAN', 'DURANGO', 'INTREPID', 'NEON', 'STRATUS SEDAN', 'VIPER', 'CROWN VICTORIA', 'ECONOLINE', 'ESCAPE', 'ESCORT', 'EXPEDITION', 'EXPLORER', 'F SERIES', 'FOCUS', 'MUSTANG', 'TAURUS', 'THUNDERBIRD', 'WINDSTAR PASS', 'ENVOY', 'SAFARI PASS', 'SAVANA CARGO', 'SIERRA', 'SONOMA', 'YUKON', 'ACCORD', 'CIVIC', 'CR-V', 'INSIGHT', 'ODYSSEY', 'PASSPORT', 'S2000', 'ACCENT', 'ELANTRA', 'SANTA FE', 'SONATA', 'XG350', 'G20', 'I35', 'Q45', 'QX4', 'AXIOM', 'RODEO', 'TROOPER', 'S-TYPE', 'X-TYPE', 'XJ6/8', 'XJR', 'XK8', 'GRAND CHEROKEE', 'LIBERTY', 'WRANGLER', 'RIO', 'SEDONA', 'SPECTRA', 'SPORTAGE', 'DISCOVERY', 'RANGE ROVER', 'ES300', 'GS300', 'GS430/460', 'IS300', 'LS430/460', 'LX470', 'RX300', 'SC430', 'BLACKWOOD', 'CONTINENTAL', 'LS', 'NAVIGATOR', 'TOWN CAR', '626', 'MILLENIA', 'MPV PASS VAN', 'MX-5 MIATA', 'PROTEGE', 'TRIBUTE', 'C CLASS', 'CL CLASS', 'CLK CLASS', 'E CLASS', 'M CLASS', 'S CLASS', 'SL CLASS', 'SLK CLASS', 'COUGAR', 'GRAND MARQUIS', 'MOUNTAINEER', 'SABLE', 'VILLAGER', 'LANCER', 'MIRAGE', 'MONTERO SPORT', 'ALTIMA', 'FRONTIER', 'MAXIMA', 'QUEST', 'SENTRA', 'XTERRA', 'ALERO', 'BRAVADA', 'INTRIGUE', 'SILHOUETTE', 'AZTEK', 'BONNEVILLE', 'FIREBIRD', 'GRAND AM', 'GRAND PRIX', 'MONTANA', 'SUNFIRE', '911', 'BOXSTER', 'DAKOTA', 'RAM PICKUP', 'RAM WAGON', '9-3', '9-5', 'FORESTER', 'IMPREZA', 'LEGACY', 'OUTBACK', 'ESTEEM', 'VITARA', 'XL-7', '4RUNNER PASS', 'CAMRY', 'CELICA', 'COROLLA', 'HIGHLANDER', 'LAND CRUISER', 'MR2 SPYDER', 'PRIUS', 'SEQUOIA', 'SIENNA', 'TACOMA', 'TUNDRA', 'BEETLE II', 'CABRIOLET', 'EUROVAN', 'GOLF', 'JETTA', 'PASSAT', '40', '60', '70 C', '70 V', '80', 'Z4', 'PARK AVE', 'CTS', 'ESCALADE ESV', 'ESCALADE EXT', 'AVALANCHE', 'SUBURBAN', 'RANGER', 'SAVANA PASS', 'YUKON XL', 'ELEMENT', 'PILOT', 'TIBURON', 'FX', 'M35/45', 'ASCENDER', 'OPTIMA', 'SORENTO', 'FREELANDER', 'GX460/470', 'AVIATOR', 'MAZDA6', 'G CLASS', 'OUTLANDER', '350Z', 'MURANO', 'AURORA', 'VIBE', 'BAJA', 'AERIO', 'AVALON', 'ECHO', 'RAV4', 'XC70', 'XC90', 'TSX', 'X3', 'RAINIER', 'ESCALADE', 'SRX', 'XLR', 'AVEO', 'COLORADO', 'SSR', 'CROSSFIRE', 'PACIFICA', 'FREESTAR', 'QX56', 'ES330', 'RX330', 'B SERIES', 'MAZDA3', 'MONTEREY', 'ARMADA', 'GTO', 'CAYENNE', 'xA', 'xB', 'FORENZA', 'VERONA', 'MATRIX', 'PHAETON', 'TOUAREG', '6 SERIES', 'TERRAZA', 'STS', 'COBALT', 'UPLANDER', '300 SERIES', 'MAGNUM', 'STRATUS COUPE', 'FIVE HUNDRED', 'FREESTYLE', 'CANYON', 'TUCSON', 'AMANTI', 'LR3', 'RX-8', 'MARINER', 'MONTEGO', 'PATHFINDER', 'CARRERA GT', '9-2X', '50', 'A3', 'LACROSSE', 'LUCERNE', 'DTS', 'EQUINOX', 'HHR', 'CHARGER', 'FUSION', 'RIDGELINE', 'G35/37', 'i-SERIES', 'COMMANDER', 'IS250/350', 'RX400', 'MARK LT', 'MAZDA5', 'R CLASS', 'MILAN', 'RAIDER', 'TITAN', 'MONTANA SV6', 'SOLSTICE', 'TORRENT', 'CAYMAN', '9-7X', 'tC', 'TRIBECA', 'GTI', 'ASPEN', 'CALIBER', 'NITRO', 'EDGE', 'ACADIA', 'FIT', 'AZERA', 'ENTOURAGE', 'COMPASS', 'RANGE ROVER SPORT', 'ES350', 'GS350', 'GS450', 'RX350', 'MKZ', 'CX-7', 'GL CLASS', 'VERSA', 'G5', 'SKY', 'VUE', 'SX4', 'FJ CRUISER', 'EOS', 'RABBIT', 'RDX', 'ENCLAVE', 'AVENGER', 'CHALLENGER', 'TAURUS X', 'VERACRUZ', 'EX', 'PATRIOT', 'RONDO', 'LR2', 'LS600', 'MKX', 'CX-9', 'ROGUE', 'G6', 'G8', 'R32', '30', 'X6', 'TRAVERSE', 'JOURNEY', 'FLEX', 'H3', 'H3T', 'GENESIS', 'XF', 'BORREGO', 'MKS', '370Z', 'GT-R', 'EQUATOR', 'VENZA', 'YARIS', 'CC', 'ROUTAN', 'TIGUAN', 'ZDX', '1 SERIES', 'CAMARO', 'TRANSIT CONNECT', 'TERRAIN', 'CROSSTOUR', 'FORTE', 'SOUL', 'LR4', 'HS250', 'LX570', 'RX450', 'MKT', 'GLK CLASS', 'CUBE', 'PANAMERA', 'KIZASHI', 'XC60', '200 SERIES', 'FIESTA', 'CR-Z', 'EQUUS', 'CT200', 'MAZDA2', 'COOPER', 'COUNTRYMAN', 'OUTLANDER SPORT', 'JUKE', 'WRX', 'VERANO', 'CRUZE', 'VELOSTER', 'SLS CLASS', 'I', 'LEAF', 'ILX', 'X1', 'ENCORE', 'ATS', 'XTS', 'SONIC', 'SPARK', 'VOLT', 'DART', 'C-MAX', 'JX', 'FR-S', 'BRZ', 'XV CROSSTREK', 'PRIUS C']\n"
     ]
    }
   ],
   "source": [
    "print(unique_models)"
   ]
  },
  {
   "cell_type": "code",
   "execution_count": 169,
   "metadata": {},
   "outputs": [],
   "source": [
    "## keep track of the True or False value of whether the detected_entity is a unique model name\n",
    "tfVal = []\n",
    "for i in range(len(data)):\n",
    "    tfVal.append(data['detected_entity'][i] not in unique_models)"
   ]
  },
  {
   "cell_type": "code",
   "execution_count": 170,
   "metadata": {},
   "outputs": [],
   "source": [
    "## the droped entities are the ones that are not a unique model name, such as \"SERIES\" and \"CX\"\n",
    "dropped = data.loc[tfVal]"
   ]
  },
  {
   "cell_type": "code",
   "execution_count": 171,
   "metadata": {},
   "outputs": [
    {
     "data": {
      "text/html": [
       "<div>\n",
       "<style scoped>\n",
       "    .dataframe tbody tr th:only-of-type {\n",
       "        vertical-align: middle;\n",
       "    }\n",
       "\n",
       "    .dataframe tbody tr th {\n",
       "        vertical-align: top;\n",
       "    }\n",
       "\n",
       "    .dataframe thead th {\n",
       "        text-align: right;\n",
       "    }\n",
       "</style>\n",
       "<table border=\"1\" class=\"dataframe\">\n",
       "  <thead>\n",
       "    <tr style=\"text-align: right;\">\n",
       "      <th></th>\n",
       "      <th>detected_entity</th>\n",
       "      <th>brand_id</th>\n",
       "      <th>model_id</th>\n",
       "      <th>year</th>\n",
       "      <th>ybm_id</th>\n",
       "      <th>org_id</th>\n",
       "    </tr>\n",
       "  </thead>\n",
       "  <tbody>\n",
       "    <tr>\n",
       "      <th>0</th>\n",
       "      <td>3</td>\n",
       "      <td>0</td>\n",
       "      <td>3</td>\n",
       "      <td>0</td>\n",
       "      <td>0</td>\n",
       "      <td>3227.0</td>\n",
       "    </tr>\n",
       "    <tr>\n",
       "      <th>1</th>\n",
       "      <td>3</td>\n",
       "      <td>0</td>\n",
       "      <td>3</td>\n",
       "      <td>0</td>\n",
       "      <td>0</td>\n",
       "      <td>5226.0</td>\n",
       "    </tr>\n",
       "    <tr>\n",
       "      <th>2</th>\n",
       "      <td>3</td>\n",
       "      <td>0</td>\n",
       "      <td>3</td>\n",
       "      <td>0</td>\n",
       "      <td>0</td>\n",
       "      <td>5292.0</td>\n",
       "    </tr>\n",
       "    <tr>\n",
       "      <th>3</th>\n",
       "      <td>SERIES</td>\n",
       "      <td>0</td>\n",
       "      <td>3</td>\n",
       "      <td>0</td>\n",
       "      <td>0</td>\n",
       "      <td>5814.0</td>\n",
       "    </tr>\n",
       "    <tr>\n",
       "      <th>4</th>\n",
       "      <td>3</td>\n",
       "      <td>0</td>\n",
       "      <td>3</td>\n",
       "      <td>0</td>\n",
       "      <td>0</td>\n",
       "      <td>6253.0</td>\n",
       "    </tr>\n",
       "    <tr>\n",
       "      <th>...</th>\n",
       "      <td>...</td>\n",
       "      <td>...</td>\n",
       "      <td>...</td>\n",
       "      <td>...</td>\n",
       "      <td>...</td>\n",
       "      <td>...</td>\n",
       "    </tr>\n",
       "    <tr>\n",
       "      <th>59988</th>\n",
       "      <td>SERIES</td>\n",
       "      <td>0</td>\n",
       "      <td>413</td>\n",
       "      <td>0</td>\n",
       "      <td>0</td>\n",
       "      <td>254919.0</td>\n",
       "    </tr>\n",
       "    <tr>\n",
       "      <th>59989</th>\n",
       "      <td>SERIES</td>\n",
       "      <td>0</td>\n",
       "      <td>413</td>\n",
       "      <td>0</td>\n",
       "      <td>0</td>\n",
       "      <td>255415.0</td>\n",
       "    </tr>\n",
       "    <tr>\n",
       "      <th>59990</th>\n",
       "      <td>SERIES</td>\n",
       "      <td>0</td>\n",
       "      <td>413</td>\n",
       "      <td>0</td>\n",
       "      <td>0</td>\n",
       "      <td>255740.0</td>\n",
       "    </tr>\n",
       "    <tr>\n",
       "      <th>59991</th>\n",
       "      <td>SERIES</td>\n",
       "      <td>0</td>\n",
       "      <td>413</td>\n",
       "      <td>0</td>\n",
       "      <td>0</td>\n",
       "      <td>281814.0</td>\n",
       "    </tr>\n",
       "    <tr>\n",
       "      <th>59992</th>\n",
       "      <td>SERIES</td>\n",
       "      <td>0</td>\n",
       "      <td>413</td>\n",
       "      <td>0</td>\n",
       "      <td>0</td>\n",
       "      <td>308800.0</td>\n",
       "    </tr>\n",
       "  </tbody>\n",
       "</table>\n",
       "<p>18751 rows × 6 columns</p>\n",
       "</div>"
      ],
      "text/plain": [
       "      detected_entity  brand_id  model_id  year  ybm_id    org_id\n",
       "0                   3         0         3     0       0    3227.0\n",
       "1                   3         0         3     0       0    5226.0\n",
       "2                   3         0         3     0       0    5292.0\n",
       "3              SERIES         0         3     0       0    5814.0\n",
       "4                   3         0         3     0       0    6253.0\n",
       "...               ...       ...       ...   ...     ...       ...\n",
       "59988          SERIES         0       413     0       0  254919.0\n",
       "59989          SERIES         0       413     0       0  255415.0\n",
       "59990          SERIES         0       413     0       0  255740.0\n",
       "59991          SERIES         0       413     0       0  281814.0\n",
       "59992          SERIES         0       413     0       0  308800.0\n",
       "\n",
       "[18751 rows x 6 columns]"
      ]
     },
     "execution_count": 171,
     "metadata": {},
     "output_type": "execute_result"
    }
   ],
   "source": [
    "dropped"
   ]
  },
  {
   "cell_type": "code",
   "execution_count": 172,
   "metadata": {},
   "outputs": [
    {
     "data": {
      "text/plain": [
       "18751"
      ]
     },
     "execution_count": 172,
     "metadata": {},
     "output_type": "execute_result"
    }
   ],
   "source": [
    "len(dropped)"
   ]
  },
  {
   "cell_type": "code",
   "execution_count": 173,
   "metadata": {},
   "outputs": [],
   "source": [
    "dropped.to_csv('dropped_detections')"
   ]
  }
 ],
 "metadata": {
  "kernelspec": {
   "display_name": "Python 3",
   "language": "python",
   "name": "python3"
  },
  "language_info": {
   "codemirror_mode": {
    "name": "ipython",
    "version": 3
   },
   "file_extension": ".py",
   "mimetype": "text/x-python",
   "name": "python",
   "nbconvert_exporter": "python",
   "pygments_lexer": "ipython3",
   "version": "3.7.6"
  }
 },
 "nbformat": 4,
 "nbformat_minor": 4
}
